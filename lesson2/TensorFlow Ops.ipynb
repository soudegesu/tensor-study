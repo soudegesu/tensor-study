{
 "cells": [
  {
   "cell_type": "markdown",
   "metadata": {},
   "source": [
    "# TensorFlow Ops"
   ]
  },
  {
   "cell_type": "markdown",
   "metadata": {},
   "source": [
    "* Basic operaions\n",
    "* Tensor types\n",
    "* Project speed dating\n",
    "* Placeholders and feeding inputs\n",
    "* Lazy loading"
   ]
  },
  {
   "cell_type": "code",
   "execution_count": null,
   "metadata": {
    "collapsed": false
   },
   "outputs": [],
   "source": [
    "# Basic Program\n",
    "import tensorflow as tf\n",
    "\n",
    "a = tf.constant(2)\n",
    "b = tf.constant(3)\n",
    "x = tf.add(a, b)\n",
    "\n",
    "with tf.Session() as sess:\n",
    "    print(sess.run(x))"
   ]
  },
  {
   "cell_type": "code",
   "execution_count": null,
   "metadata": {
    "collapsed": false
   },
   "outputs": [],
   "source": [
    "# Visualize it with Tensorboard\n",
    "import tensorflow as tf\n",
    "\n",
    "a = tf.constant(2)\n",
    "b = tf.constant(3)\n",
    "\n",
    "x = tf.add(a, b)\n",
    "\n",
    "with tf.Session() as sess:\n",
    "    # graph定義の後かつ、sessionの実行前にsummary writerを作成する\n",
    "    writer = tf.summary.FileWriter('./graphs', sess.graph)\n",
    "    print(sess.run(x))\n",
    "\n",
    "writer.close()"
   ]
  },
  {
   "cell_type": "code",
   "execution_count": null,
   "metadata": {
    "collapsed": false
   },
   "outputs": [],
   "source": [
    "# Visualize it with Tensorboard\n",
    "import tensorflow as tf\n",
    "\n",
    "a = tf.constant(2)\n",
    "b = tf.constant(3)\n",
    "x = tf.add(a, b)\n",
    "\n",
    "# graph定義の後かつ、sessionの実行前にsummary writerを作成する\n",
    "writer = tf.summary.FileWriter('./graphs', sess.graph)\n",
    "\n",
    "with tf.Session() as sess:\n",
    "    print(sess.run(x))\n",
    "\n",
    "writer.close()"
   ]
  },
  {
   "cell_type": "code",
   "execution_count": null,
   "metadata": {
    "collapsed": false
   },
   "outputs": [],
   "source": [
    "# Visualize it with Tensorboard\n",
    "import tensorflow as tf\n",
    "\n",
    "# 名前を明示的に付与する場合\n",
    "a = tf.constant(2, name=\"a\")\n",
    "b = tf.constant(3, name=\"3\")\n",
    "x = tf.add(a, b, name=\"add\")\n",
    "\n",
    "# graph定義の後かつ、sessionの実行前にsummary writerを作成する\n",
    "writer = tf.summary.FileWriter('./graphs', sess.graph)\n",
    "\n",
    "with tf.Session() as sess:\n",
    "    print(sess.run(x))"
   ]
  },
  {
   "cell_type": "markdown",
   "metadata": {},
   "source": [
    "Tensorboardでしばしばよく使うことを学びます。\n",
    "これは複雑なモデルをビルドする際に大きく役に立ちます。\n",
    "\n",
    "```  python\n",
    "tf.constant(value, dtype=None, shape=None, name='Const', verify_shape=False)\n",
    "```\n"
   ]
  },
  {
   "cell_type": "code",
   "execution_count": null,
   "metadata": {
    "collapsed": false
   },
   "outputs": [],
   "source": [
    "import tensorflow as tf\n",
    "\n",
    "a = tf.constant([2, 2], name=\"a\")\n",
    "b = tf.constant([[0, 1], [2, 3]], name=\"b\")\n",
    "x = tf.add(a, b, name=\"add\")\n",
    "y = tf.multiply(a, b, name=\"mul\")\n",
    "\n",
    "with tf.Session() as sess:\n",
    "    x, y = sess.run([x, y])\n",
    "    print(x, y)"
   ]
  },
  {
   "cell_type": "markdown",
   "metadata": {},
   "source": [
    "## Tensorsを特定の値で埋める場合\n",
    "tensorの形を作成し、すべての要素を0で埋める(sessionが実行された時)\n",
    "※ numpy.zeros に似ている\n",
    "``` python\n",
    "tf.zeros(shape, dtype=tf.float32, name=None)\n",
    "```\n"
   ]
  },
  {
   "cell_type": "code",
   "execution_count": null,
   "metadata": {
    "collapsed": false
   },
   "outputs": [],
   "source": [
    "a = tf.zeros([2, 3], tf.int32)\n",
    "print(a)"
   ]
  },
  {
   "cell_type": "markdown",
   "metadata": {},
   "source": [
    "```\n",
    "tf.zeros_like(input_tensor, dtype=None, name=None, optimize=True)\n",
    "```\n",
    "tensorの形と型(指定された場合)をinput_tensorとして作成し、すべての要素を0にする"
   ]
  },
  {
   "cell_type": "code",
   "execution_count": null,
   "metadata": {
    "collapsed": true
   },
   "outputs": [],
   "source": [
    "input_tensor = [[0,1],[2,3],[4,5]]\n",
    "b = tf.zeros_like(input_tensor)"
   ]
  },
  {
   "cell_type": "markdown",
   "metadata": {},
   "source": [
    "`tf.zeros_like` の初期化は以下と同義\n",
    "```\n",
    "tf.ones(shape, dtype=tf.float32, name=None)\n",
    "```"
   ]
  },
  {
   "cell_type": "code",
   "execution_count": null,
   "metadata": {
    "collapsed": false
   },
   "outputs": [],
   "source": [
    "c = tf.ones_like(input_tensor, dtype=None, name=None, optimize=True)\n",
    "print(c)"
   ]
  },
  {
   "cell_type": "code",
   "execution_count": null,
   "metadata": {
    "collapsed": false
   },
   "outputs": [],
   "source": [
    "# 2*3行列を8で埋める場合\n",
    "b = tf.fill([2, 3], 8)\n",
    "print(b)"
   ]
  },
  {
   "cell_type": "code",
   "execution_count": null,
   "metadata": {
    "collapsed": false
   },
   "outputs": [],
   "source": [
    "# 10 〜13までの間で等間隔に4つの要素を作成する場合\n",
    "tf.linspace(10.0, 13.0, 4)\n",
    "\n",
    "# 3以上〜18未満で3ずつ加算していく\n",
    "start = 3\n",
    "limit = 18\n",
    "delta = 3\n",
    "tf.range(start, limit, delta)\n",
    "\n",
    "# 0から4まで\n",
    "tf.range(5)"
   ]
  },
  {
   "cell_type": "markdown",
   "metadata": {},
   "source": [
    "## ランダムに定数を生成する\n",
    "```\n",
    "tf.random_normal(shape, mean=0.0, stddev=1.0, dtype=tf.float32, seed=None, name=None)\n",
    "tf.truncated_normal(shape, mean=0.0, stddev=1.0, dtype=tf.float32, seed=None, name=None)\n",
    "tf.random_uniform(shape, minval=0, maxval=None, dtype=tf.float32, seed=None,name=None)\n",
    "tf.random_shuffle(value, seed=None, name=None)\n",
    "tf.random_crop(value, size, seed=None, name=None)\n",
    "tf.multinomial(logits, num_samples, seed=None, name=None)\n",
    "tf.random_gamma(shape, alpha, beta=None, dtype=tf.float32, seed=None, name=None)\n",
    "```"
   ]
  },
  {
   "cell_type": "markdown",
   "metadata": {},
   "source": [
    "# Operations"
   ]
  },
  {
   "cell_type": "markdown",
   "metadata": {},
   "source": [
    "| Category | Examples |\n",
    "|:-----------|:-----------|\n",
    "|算術演算|Add, Sub, Mu, Div, Exp, Log|\n",
    "|配列演算|concat, Slice, Split, Constant|\n",
    "|ステートフルな演算|Variabl, Assign, AssignAdd|\n",
    "|Neural Network builing blocks|Softmax, Sigmoid, ReLU|\n",
    "|Checkpoint 演算| Save, Restore|\n",
    "|キューと同期演算|Enqueue, Dequeue|\n",
    "|Control flow 演算| Merge, Switch, Enter|\n"
   ]
  },
  {
   "cell_type": "code",
   "execution_count": null,
   "metadata": {
    "collapsed": false
   },
   "outputs": [],
   "source": [
    "import tensorflow as tf\n",
    "\n",
    "a = tf.constant([3, 6])\n",
    "b = tf.constant([2, 2])\n",
    "\n",
    "print(tf.add(a, b))\n",
    "print(tf.add_n([a, b, b]))\n",
    "print(tf.multiply(a, b))\n",
    "# print(tf.matmul(a, b))\n",
    "# print(tf.matmul(tf.shape(a, [1, 2]), tf.reshape(b, [2, 1])))\n",
    "print(tf.div(a, b))\n",
    "print(tf.mod(a, b))"
   ]
  },
  {
   "cell_type": "markdown",
   "metadata": {},
   "source": [
    "## Tensorflow Data Types\n",
    "* 0-d tensor, or scalar\n",
    "tensorflowはPythonのnativeなtypeを使用します: boolean, numeric, string\n",
    "\n",
    "``` python\n",
    "t_0 = 19\n",
    "tf.zeros_like(t_0) # ==> 0\n",
    "tf.ones_like(t_0)  # ==> 1\n",
    "```\n",
    "\n",
    "* 1-d tensor, or 'vector'\n",
    "\n",
    "``` python\n",
    "t_1 = ['apple', 'patch', 'banana']\n",
    "tf.zeros_like(t_1) # ==> ['' '' '']\n",
    "tf.ones_like(t_1) # ==> Type error\n",
    "\n",
    "```\n",
    "\n",
    "* 2✕2 tensor, or 'matrix'\n",
    "\n",
    "``` python\n",
    "t_2 = [[True, False, False],\n",
    "[False, True, False],\n",
    "[False, False, True]\n",
    "]\n",
    "tf.zeros_like(t_2) # 2*2 tensor, all elements are false\n",
    "tf.ones_like(t_2) # 2*2 tensor, all elements are true\n",
    "\n",
    "```\n"
   ]
  },
  {
   "cell_type": "markdown",
   "metadata": {},
   "source": [
    "## TF vs NP DataType\n",
    "* tensorflowとnumpyのdatatypeには互換性がある\n",
    "\n",
    "``` python\n",
    "tf.int32 == np.int32 # True\n",
    "```\n",
    "\n",
    "``` python\n",
    "tf.ones([2, 2], np.float32) # => [[1.0, 1.0], [1.0, 1.0]]\n",
    "```\n",
    "\n",
    "``` python\n",
    "tf.Session.run(fetches)\n",
    "```\n",
    "で実行した結果はNumpyのndarrayになる。\n",
    "\n",
    "** ※Python のnativeの型はtensorに使用してはいけない。**\n"
   ]
  },
  {
   "cell_type": "markdown",
   "metadata": {},
   "source": [
    "## graph定義を表示する"
   ]
  },
  {
   "cell_type": "code",
   "execution_count": null,
   "metadata": {
    "collapsed": false
   },
   "outputs": [],
   "source": [
    "import tensorflow as tf\n",
    "\n",
    "my_const = tf.constant([1.0, 2.0], name=\"my_const\")\n",
    "\n",
    "with tf.Session() as sess:\n",
    "    # グラフの定義を確認できる\n",
    "    # ただし、constantが大きい場合にはグラフのloadコストが高い\n",
    "    print(sess.graph.as_graph_def())"
   ]
  },
  {
   "cell_type": "markdown",
   "metadata": {},
   "source": [
    "## Variables？"
   ]
  },
  {
   "cell_type": "code",
   "execution_count": null,
   "metadata": {
    "collapsed": false
   },
   "outputs": [],
   "source": [
    "# create variable a with scalar value\n",
    "a = tf.Variable(2, name=\"scalar\")\n",
    "\n",
    "# create variable b as a vector\n",
    "b = tf.Variable([2, 3], name=\"vector\")\n",
    "\n",
    "# create variable c as a 2*2 matrix\n",
    "c = tf.Variable([[0, 1], [2, 3]], name=\"matrix\")\n",
    "\n",
    "# create variable W as 784 * 10 tensor, filled with zeros\n",
    "W = tf.Variable(tf.zeros([784, 10]))"
   ]
  },
  {
   "cell_type": "markdown",
   "metadata": {},
   "source": [
    "tf.Variable は *class*、tf.constantは *op*\n",
    "tf.Variable はいくつかのopsを保持している。\n",
    "\n",
    "```\n",
    "x = tf.Variable(...)\n",
    "\n",
    "x.initializer # init op\n",
    "x.value() # read op\n",
    "x.assign(...) # write op\n",
    "x.assign_add(...) # and more\n",
    "\n",
    "```\n",
    "\n",
    "variablesを簡単に初期化する方法は以下"
   ]
  },
  {
   "cell_type": "code",
   "execution_count": null,
   "metadata": {
    "collapsed": false
   },
   "outputs": [],
   "source": [
    "# 1度だけ初期化する方法\n",
    "init = tf.global_variables_initializer()\n",
    "with tf.Session() as sess:\n",
    "    sess.run(init)\n",
    "    \n",
    "# variableのsubsetだけを初期化する方法\n",
    "init_ab = tf.variables_initializer([a, b], name=\"init_ab\")\n",
    "with tf.Session() as sess:\n",
    "    sess.run(init_ab)\n",
    "    \n",
    "# 単一のvariableを初期化する場合\n",
    "W = tf.Variable(tf.zeros([784, 10]))\n",
    "with tf.Session() as sess:\n",
    "    sess.run(W.initializer)"
   ]
  },
  {
   "cell_type": "code",
   "execution_count": null,
   "metadata": {
    "collapsed": false
   },
   "outputs": [],
   "source": [
    "# variableのEval()\n",
    "W = tf.Variable(tf.truncated_normal([700, 10]))\n",
    "with tf.Session() as sess:\n",
    "    sess.run(W.initializer)\n",
    "    print(W)\n",
    "    print(\"=============\")\n",
    "    print(W.eval())"
   ]
  },
  {
   "cell_type": "code",
   "execution_count": null,
   "metadata": {
    "collapsed": false
   },
   "outputs": [],
   "source": [
    "W = tf.Variable(10)\n",
    "W.assign(100)\n",
    "with tf.Session() as sess:\n",
    "    sess.run(W.initializer)\n",
    "    print(W.eval())"
   ]
  },
  {
   "cell_type": "markdown",
   "metadata": {},
   "source": [
    "``` python\n",
    "W.asssign(100)\n",
    "```\n",
    "はWに値100を割り当てるわけではない。\n",
    "これは assignのopを生成し、op効果を発揮するために実行する必要がある"
   ]
  },
  {
   "cell_type": "code",
   "execution_count": null,
   "metadata": {
    "collapsed": false
   },
   "outputs": [],
   "source": [
    "W = tf.Variable(10)\n",
    "assign_op = W.assign(100) # ここでassignして\n",
    "\n",
    "with tf.Session() as sess:\n",
    "    sess.run(W.initializer)\n",
    "    sess.run(assign_op) # 実行して初めてasssignされる\n",
    "    print(W.eval())"
   ]
  },
  {
   "cell_type": "code",
   "execution_count": null,
   "metadata": {
    "collapsed": false
   },
   "outputs": [],
   "source": [
    "# create a variable whose original value is 2\n",
    "my_var =tf.Variable(2, name=\"my_var\")\n",
    "\n",
    "# assign a * 2 to a and call that op a_times_two\n",
    "my_var_times_two = my_var.assign(2 * my_var)\n",
    "\n",
    "with tf.Session() as sess:\n",
    "    print(sess.run(my_var.initializer))\n",
    "    print(sess.run(my_var_times_two))\n",
    "    # もう一度実行すると2 * my_var が再度発生する\n",
    "    print(sess.run(my_var_times_two))"
   ]
  },
  {
   "cell_type": "code",
   "execution_count": null,
   "metadata": {
    "collapsed": false
   },
   "outputs": [],
   "source": [
    "my_var = tf.Variable(10)\n",
    "\n",
    "# assign_addやassign_subはvariableの初期化をしてくれないので、\n",
    "# 別途initializeは必要\n",
    "with tf.Session() as sess:\n",
    "    sess.run(my_var.initializer)\n",
    "    # increment by 10\n",
    "    print(sess.run(my_var.assign_add(10)))\n",
    "    # decrements by 2\n",
    "    print(sess.run(my_var.assign_sub(2)))"
   ]
  },
  {
   "cell_type": "code",
   "execution_count": null,
   "metadata": {
    "collapsed": false
   },
   "outputs": [],
   "source": [
    "import tensorflow as tf\n",
    "# Variableはセッション内でそのコピーを保持する\n",
    "# ≒ セッション間で影響を相互に与えない\n",
    "W = tf.Variable(10)\n",
    "\n",
    "sess1 = tf.Session()\n",
    "sess2 = tf.Session()\n",
    "\n",
    "sess1.run(W.initializer)\n",
    "sess2.run(W.initializer)\n",
    "\n",
    "print(sess1.run(W.assign_add(10)))\n",
    "print(sess2.run(W.assign_sub(2)))"
   ]
  },
  {
   "cell_type": "code",
   "execution_count": null,
   "metadata": {
    "collapsed": false
   },
   "outputs": [],
   "source": [
    "W = tf.Variable(10)\n",
    "\n",
    "sess1 = tf.Session()\n",
    "sess2 = tf.Session()\n",
    "\n",
    "sess1.run(W.initializer)\n",
    "sess2.run(W.initializer)\n",
    "\n",
    "print(sess1.run(W.assign_add(10)))\n",
    "print(sess2.run(W.assign_sub(2)))\n",
    "\n",
    "print(sess1.run(W.assign_add(100)))\n",
    "print(sess2.run(W.assign_sub(50)))\n",
    "\n",
    "sess1.close()\n",
    "sess2.close()"
   ]
  },
  {
   "cell_type": "code",
   "execution_count": null,
   "metadata": {
    "collapsed": false
   },
   "outputs": [],
   "source": [
    "# 他のvariableを使用して、variableを初期化する\n",
    "W = tf.Variable(tf.truncated_normal([700, 10]))\n",
    "U = tf.Variable(2 * W)"
   ]
  },
  {
   "cell_type": "markdown",
   "metadata": {},
   "source": [
    "## Session vs IntaractiveSession "
   ]
  },
  {
   "cell_type": "code",
   "execution_count": null,
   "metadata": {
    "collapsed": false
   },
   "outputs": [],
   "source": [
    "# Sessionの代わりにInteractiveSessionを使用する場合、\n",
    "# その違いはInteractieSessionはdefaultをそれ自身にする、ということ\n",
    "\n",
    "sess = tf.InteractiveSession()\n",
    "a = tf.constant(5.0)\n",
    "b = tf.constant(6.0)\n",
    "c = a * b\n",
    "\n",
    "print(c.eval())\n",
    "sess.close()"
   ]
  },
  {
   "cell_type": "code",
   "execution_count": null,
   "metadata": {
    "collapsed": true
   },
   "outputs": [],
   "source": []
  },
  {
   "cell_type": "markdown",
   "metadata": {},
   "source": [
    "## Placeholder\n",
    "TensorFlowにはたいてい、2つのフェーズがある\n",
    "1. graphを組み立てる\n",
    "2. graph内の演算をsessionを使用して実行する\n",
    "\n",
    "=> 計算に必要な値を知らずに最初にgraphを構築することができる\n",
    "\n",
    "Analogy:\n",
    "xやyが既知でない関数`f(x, y) = x * 2 + y`を定義することができる。x, yは実際の値のためのplacceholderである。\n",
    "\n",
    "### なぜPlaceholderなのか?\n",
    "私達(もしくはclient)は、計算を実行する必要が有るときに、後からdataを提供することがある。\n"
   ]
  },
  {
   "cell_type": "code",
   "execution_count": null,
   "metadata": {
    "collapsed": false
   },
   "outputs": [],
   "source": [
    "# tf.placeholder(dtype, shape=None, name=None)\n",
    "\n",
    "# create a placeholder of type float 32-bit, shape is a vector of 3 elements\n",
    "a = tf.placeholder(tf.float32, shape=[3])\n",
    "\n",
    "# create a constant of type float 32-bit, shape is a vector of 3 elements\n",
    "b  = tf.constant([5, 5, 5], tf.float32)\n",
    "\n",
    "# use the placeholder as you would a constant or variable\n",
    "c = a + b\n",
    "\n",
    "with tf.Session() as sess:\n",
    "    print(sess.run(c)) # 値を格納していないのでエラーになる"
   ]
  },
  {
   "cell_type": "code",
   "execution_count": null,
   "metadata": {
    "collapsed": false
   },
   "outputs": [],
   "source": [
    "# 辞書を使用して、placeholderに値を入れる\n",
    "\n",
    "# create a placeholder of type float 32-bit, shape is a vector of 3 elements\n",
    "a = tf.placeholder(tf.float32, shape=[3])\n",
    "\n",
    "# create a constant of type float 32-bit, shape is a vector 3 elements\n",
    "b = tf.constant([5, 5, 5], tf.float32)\n",
    "\n",
    "# use the placeholder as you would a constant otr a variable\n",
    "c = a + b # Short for tf.add(a, b)\n",
    "\n",
    "with tf.Session() as sess:\n",
    "    # feed [1, 2, 3] to placeholder a via dict {a, [1, 2, 3]}\n",
    "    # fetch value of c\n",
    "    print(sess.run(c, {a: [1, 2, 3]}))\n",
    "\n",
    "#  None が出る場合には、placeholderに対してすべてのshapeが値として利用可能であることを意味する\n",
    "# shape = None はgraph の構築を簡単にする。ただし、デバッグしにくい。\n",
    "# また、shape = Noneはshapeインタフェースのあらゆる継承をできなくする。ops は動かなくなる。\n"
   ]
  },
  {
   "cell_type": "markdown",
   "metadata": {},
   "source": [
    "* 仮に複数のデータポイントを指定したくなったら?\n",
    "    * 1度に全てのvalueを指定する\n",
    "    \n",
    "``` python\n",
    "with tf.Session() as sess:\n",
    "    for a_value in list_of_values_for_a:\n",
    "        print(sess.run(c, {a: a_value}))\n",
    "```"
   ]
  },
  {
   "cell_type": "code",
   "execution_count": null,
   "metadata": {
    "collapsed": false
   },
   "outputs": [],
   "source": [
    "# TensorFlow ops に値を注入する\n",
    "\n",
    "# create operations, tensors, etc (using the default graph)\n",
    "a = tf.add(2, 5)\n",
    "b = tf.multiply(a, 3)\n",
    "\n",
    "with tf.Session() as sess:\n",
    "    # define a dictionary that says to replace the value of 'a' with 15\n",
    "    replace_dict = {a: 15}\n",
    "    \n",
    "    # Run the session, passing in 'replace_dict' as the value to ''feed_dict\n",
    "    print(sess.run(b, feed_dict=replace_dict))"
   ]
  },
  {
   "cell_type": "markdown",
   "metadata": {},
   "source": [
    "## Lazy loadの罠\n",
    "* 必要になるまで、オブジェクトを遅れてcreate, initializeする"
   ]
  },
  {
   "cell_type": "code",
   "execution_count": null,
   "metadata": {
    "collapsed": false
   },
   "outputs": [],
   "source": [
    "# 通常のLoad\n",
    "\n",
    "x = tf.Variable(10, name='x')\n",
    "y = tf.Variable(20, name='y')\n",
    "z = tf.add(x, y) # you create the node for add node before executing the graph\n",
    "\n",
    "init = tf.global_variables_initializer()\n",
    "\n",
    "with tf.Session() as sess:\n",
    "    sess.run(init)\n",
    "    writer = tf.summary.FileWriter('./mygraph/12', sess.graph)\n",
    "    for _ in range(10):\n",
    "        sess.run(z)\n",
    "    writer.close()\n",
    "    "
   ]
  },
  {
   "cell_type": "code",
   "execution_count": null,
   "metadata": {
    "collapsed": false
   },
   "outputs": [],
   "source": [
    "# Lazy Load\n",
    "\n",
    "x = tf.Variable(10, name='x')\n",
    "y = tf.Variable(20, name='y')\n",
    "\n",
    "with tf.Session() as sess:\n",
    "    sess.run(tf.global_variables_initializer())\n",
    "    writer = tf.summary.FileWriter('./mygraph/12', sess.graph)\n",
    "    for _ in range(10):\n",
    "        sess.run(tf.add(x, y))\n",
    "    writer.close()"
   ]
  },
  {
   "cell_type": "code",
   "execution_count": null,
   "metadata": {
    "collapsed": true
   },
   "outputs": [],
   "source": []
  }
 ],
 "metadata": {
  "kernelspec": {
   "display_name": "Python 3",
   "language": "python",
   "name": "python3"
  },
  "language_info": {
   "codemirror_mode": {
    "name": "ipython",
    "version": 3
   },
   "file_extension": ".py",
   "mimetype": "text/x-python",
   "name": "python",
   "nbconvert_exporter": "python",
   "pygments_lexer": "ipython3",
   "version": "3.5.2"
  }
 },
 "nbformat": 4,
 "nbformat_minor": 2
}
