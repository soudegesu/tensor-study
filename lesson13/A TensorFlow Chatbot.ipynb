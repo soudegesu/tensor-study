{
 "cells": [
  {
   "cell_type": "markdown",
   "metadata": {},
   "source": [
    "# A TensorFlow Chatbot"
   ]
  },
  {
   "cell_type": "markdown",
   "metadata": {},
   "source": [
    "## Agenda\n",
    "* Seq2seq\n",
    "* Implementation keys\n",
    "* Chatbot craze"
   ]
  },
  {
   "cell_type": "markdown",
   "metadata": {},
   "source": [
    "## Sequence to sequence\n",
    "### 2つのRNNで構成されている\n",
    "* エンコーダーが可変長の入力シーケンスに対して固定長のベクトルをマッピングする\n",
    "* デコーダーは可変長の対象シーケンスを固定長のベクトルへマッピングする\n",
    "* 2つのRNNは入力シーケンスから与えられた対象シーケンスの条件付き確率を最大化するために共同で訓練される。\n",
    "=> Vanilla Encorder / Decorder\n",
    "\n",
    "### TensorFlowにおけるエンコーダーとデコーダー\n",
    "* Encoderとdecorderはよく異なる重みを持つ\n",
    "#### 注意事項\n",
    "* vanilla modelにおいては、それぞれのインプットは固定長のベク取りへエンコードされる、デコーダへパスされるように。\n",
    "* Attentionメカニズムはデコーダに直接インプットにアクセスすることを可能にする\n",
    "\n",
    "### Bucketing\n",
    "* 過剰なパディングによる無意味は演算は避けたい\n",
    "* 類似のシーケンスグループは伸びて同じバケットになる\n",
    "* バケット毎の分割されたサブグラフを生成する\n",
    "* v1.0では以下のように使うことができる\n",
    "```\n",
    "tf.contrib.training.bucket_by_sequence_length(max_length, examples, batch_size, bucket_boundaries, capactity=2 * batch_size, dynamic_pad=True)\n",
    "```\n",
    "* 演習では、Tensorflowのbucketアルゴリズムを使用してモデルを変換する\n",
    "\n",
    "### サンプリングされたSoftmax\n",
    "* 正規化することで計算の複雑度を増えることを避ける\n",
    "* 少量のサンプリングにて、勾配の負の項を近似する。\n",
    "* それぞれのステップでは正しい単語wとV中でサンプリングされた単語にのみ関連するベクトルを更新する\n",
    "* 訓練が終了したら、全対象の語彙を使用して、対象の単語の確率である確率を出力する\n",
    "\n",
    "### Sampled Softmax\n",
    "```\n",
    "if config.NUM_SAMPLES > 0 and config.NUM_SAMPLES < config.DEC_VOCAB:\n",
    "    weight = tf.get_variable('proj_w', [config.HIDDEN_SIZE, config.DEC_VOCAB])\n",
    "    bias = tf.get_variable('proj_b', [config.DEC_VOCAB])\n",
    "    self.output_projection = (w, b)\n",
    "    \n",
    "   def samplesd_loss(inputs, labels):\n",
    "       labesl = tf.reshape(labels, [-1, 1])\n",
    "       return tf.nn.sampled_softmax_loss(tf.transpose(weight), bias, inputs, labels, config.NUM_SAMPLES, config.DEC_VOCAB)\n",
    "       \n",
    "    self.softmax_loss_function = sampled_loss\n",
    "```\n",
    "\n"
   ]
  }
 ],
 "metadata": {
  "kernelspec": {
   "display_name": "Python 3",
   "language": "python",
   "name": "python3"
  },
  "language_info": {
   "codemirror_mode": {
    "name": "ipython",
    "version": 3
   },
   "file_extension": ".py",
   "mimetype": "text/x-python",
   "name": "python",
   "nbconvert_exporter": "python",
   "pygments_lexer": "ipython3",
   "version": "3.5.2"
  }
 },
 "nbformat": 4,
 "nbformat_minor": 2
}
