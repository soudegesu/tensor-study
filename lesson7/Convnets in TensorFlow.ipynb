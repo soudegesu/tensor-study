{
 "cells": [
  {
   "cell_type": "markdown",
   "metadata": {},
   "source": [
    "# Convnets in TensorFlow"
   ]
  },
  {
   "cell_type": "markdown",
   "metadata": {},
   "source": [
    "## Agenda\n",
    "* Plaing with convolutions\n",
    "* Convolution support in TF\n",
    "* More MNIST\n",
    "* Autoencorder"
   ]
  },
  {
   "cell_type": "markdown",
   "metadata": {},
   "source": [
    "### convolutionを理解する\n",
    "#### 数学 or 物理における Convolution\n",
    "integrationによって与えられた2つの関数から派生した関数。\n",
    "それは片方がもう一方によって修正されたshapeがどのようなものかを表現している\n",
    "#### NNにおけるConvolution\n",
    "*要素幅の乗算* によって与えられた2つの関数から派生した関数。\n",
    "それは片方がもう一方によって修正された *shapeと値* がどのようなものかを表現している\n",
    "\n",
    "1つのconvolution layerを使うことで画像を修正できる\n",
    "\n",
    "```\n",
    "tf.nn.conv2d(input, filter, strides, padding, use_cudnn_on_gpu=None, data_format=None, name=None)\n",
    "```"
   ]
  }
 ],
 "metadata": {
  "kernelspec": {
   "display_name": "Python 3",
   "language": "python",
   "name": "python3"
  },
  "language_info": {
   "codemirror_mode": {
    "name": "ipython",
    "version": 3
   },
   "file_extension": ".py",
   "mimetype": "text/x-python",
   "name": "python",
   "nbconvert_exporter": "python",
   "pygments_lexer": "ipython3",
   "version": "3.5.2"
  }
 },
 "nbformat": 4,
 "nbformat_minor": 2
}
