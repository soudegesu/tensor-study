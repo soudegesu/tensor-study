{
 "cells": [
  {
   "cell_type": "markdown",
   "metadata": {},
   "source": [
    "# Convnets in TensorFlow"
   ]
  },
  {
   "cell_type": "markdown",
   "metadata": {},
   "source": [
    "## Agenda\n",
    "* Plaing with convolutions\n",
    "* Convolution support in TF\n",
    "* More MNIST\n",
    "* Autoencorder"
   ]
  },
  {
   "cell_type": "markdown",
   "metadata": {},
   "source": [
    "### convolutionを理解する\n",
    "#### 数学 or 物理における Convolution\n",
    "integrationによって与えられた2つの関数から派生した関数。\n",
    "それは片方がもう一方によって修正されたshapeがどのようなものかを表現している\n",
    "#### NNにおけるConvolution\n",
    "*要素幅の乗算* によって与えられた2つの関数から派生した関数。\n",
    "それは片方がもう一方によって修正された *shapeと値* がどのようなものかを表現している\n",
    "\n",
    "1つのconvolution layerを使うことで画像を修正できる\n",
    "\n",
    "```\n",
    "tf.nn.conv2d(input, filter, strides, padding, use_cudnn_on_gpu=None, data_format=None, name=None)\n",
    "```"
   ]
  },
  {
   "cell_type": "code",
   "execution_count": 14,
   "metadata": {
    "collapsed": false
   },
   "outputs": [
    {
     "data": {
      "image/png": "[encoded data removed]",
      "text/plain": [
       "<matplotlib.figure.Figure at 0x110bc3860>"
      ]
     },
     "metadata": {},
     "output_type": "display_data"
    }
   ],
   "source": [
    "import kernels\n",
    "import tensorflow as tf\n",
    "from matplotlib import gridspec as gridspec\n",
    "from matplotlib import pyplot as plt\n",
    "\n",
    "FILENAME = './hoge.png'\n",
    "\n",
    "def read_one_image(filename):\n",
    "    filename_queue = tf.train.string_input_producer([filename])\n",
    "    image_reader = tf.WholeFileReader()\n",
    "    _, image_file = image_reader.read(filename_queue)\n",
    "    image = tf.image.decode_png(image_file, channels=3)\n",
    "    image = tf.cast(image, tf.float32) / 256.0\n",
    "    return image\n",
    "\n",
    "def convolve(image, kernels, rgb=True, strides=[1, 3, 3, 1], padding='SAME'):\n",
    "    images = [image[0]]\n",
    "    for i, kernel in enumerate(kernels):\n",
    "        filtered_image = tf.nn.conv2d(image, kernel, strides=strides, padding=padding)[0]\n",
    "        if i == 2:\n",
    "            filtered_image = tf.minimum(tf.nn.relu(filtered_image), 255)\n",
    "        images.append(filtered_image)\n",
    "    return images\n",
    "\n",
    "def get_real_images(images):\n",
    "    with tf.Session() as sess:\n",
    "        coord = tf.train.Coordinator()\n",
    "        threads = tf.train.start_queue_runners(coord=coord)\n",
    "        images = sess.run(images)\n",
    "        coord.request_stop()\n",
    "        coord.join(threads)\n",
    "    return images\n",
    "\n",
    "def show_images(images, rgb=True):\n",
    "    gs = gridspec.GridSpec(1, len(images))\n",
    "    for i, image in enumerate(images):\n",
    "        plt.subplot(gs[0, i])\n",
    "        if rgb:\n",
    "            plt.imshow(image)\n",
    "        else:\n",
    "            image = image.reshape(image.shape[0], image.shape[1])\n",
    "            plt.imshow(image, cmap='gray')\n",
    "        plt.axis('off')\n",
    "    plt.show()\n",
    "\n",
    "def main():\n",
    "    rgb = False\n",
    "    if rgb:\n",
    "        kernels_list = [kernels.BLUR_FILTER_RGB, kernels.SHARPEN_FILTER_RGB, kernels.EDGE_FILTER_RGB, kernels.TOP_SOBEL_RGB, kernels.EMBOSS_FILTER_RGB]\n",
    "    else:\n",
    "        kernels_list = [kernels.BLUR_FILTER, kernels.SHARPEN_FILTER, kernels.EDGE_FILTER, kernels.TOP_SOBEL, kernels.EMBOSS_FILTER]\n",
    "    \n",
    "    image = read_one_image(FILENAME)\n",
    "    if not rgb:\n",
    "        image = tf.image.rgb_to_grayscale(image)\n",
    "    image = tf.expand_dims(image, 0)\n",
    "    images = convolve(image, kernels_list, rgb)\n",
    "    images = get_real_images(images)\n",
    "    show_images(images, rgb)\n",
    "        \n",
    "if __name__ ==  '__main__':\n",
    "    main()"
   ]
  },
  {
   "cell_type": "code",
   "execution_count": null,
   "metadata": {
    "collapsed": true
   },
   "outputs": [],
   "source": []
  }
 ],
 "metadata": {
  "kernelspec": {
   "display_name": "Python 3",
   "language": "python",
   "name": "python3"
  },
  "language_info": {
   "codemirror_mode": {
    "name": "ipython",
    "version": 3
   },
   "file_extension": ".py",
   "mimetype": "text/x-python",
   "name": "python",
   "nbconvert_exporter": "python",
   "pygments_lexer": "ipython3",
   "version": "3.5.2"
  }
 },
 "nbformat": 4,
 "nbformat_minor": 2
}
