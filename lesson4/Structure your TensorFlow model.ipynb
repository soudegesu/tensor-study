{
 "cells": [
  {
   "cell_type": "markdown",
   "metadata": {},
   "source": [
    "# Structure your model"
   ]
  },
  {
   "cell_type": "markdown",
   "metadata": {},
   "source": [
    "## Agenda\n",
    "* Overall structure of a model in TensorFlow\n",
    "* word2vec\n",
    "* Name scope\n",
    "* Embedding visualization"
   ]
  },
  {
   "cell_type": "markdown",
   "metadata": {},
   "source": [
    "この時点までで、TensorFlowでの2つのシンプルなモデルを実装しました。\n",
    "1つはシカゴの火災と窃盗の件数の線形回帰。\n",
    "もう一つはロジスティック回帰を用いたMNISTのデータ・セットでの光学的な認識。\n",
    "ツールを用いることで、より複雑なモデルのビルドができるようになりました。\n",
    "しかし、複雑なモデルはより良い計画を要求します。もしくは、デバッグするのに少々厄介かもしれません。\n",
    "次の2つの講義では、モデルの効果的な構成に関するディスカッションをします。\n",
    "そして、word2vecの例を通じてそれを行います。\n",
    "\n",
    "あなたが言葉の構造を最もよく精通し、wod2vecのようなモデルの重要性を理解している、とします。\n",
    "あまり詳しくない型は[CS 224Nのスライド](http://web.stanford.edu/class/cs224n/lectures/cs224n-2017-lecture2.pdf)を参照しましょう。\n",
    "オリジナルの論文は以下になります。\n",
    "* [Distributed Representations of Words and Phrases and their Compositionality](https://arxiv.org/pdf/1301.3781.pdf)\n",
    "* [Efficient Estimation of Word Representations in Vector Space](https://arxiv.org/pdf/1301.3781.pdf)\n",
    "\n",
    "端的に言うと、単語のベクトル表現を必要とします\n",
    "それはいくつかのマジックのトリックを行うためにNeural Networkにinputする必要があります。多くのモデル学習の基礎から得られた単語のベクトルはCS224N学ぶことができました。現実世界での言語モデルと同様に。\n",
    "\n",
    "3D空間に単語のベクトル表現を描画することもできました。\n",
    "\n",
    "先の講義では、word2vecをビルドすることを試みました。skip-gramモデルを使用して。\n",
    "ここからskip-gram モデルの説明とチュートリアルを見つけることができます。\n",
    "[Word2Vec Tutorial - The Skip-Gram Model](http://mccormickml.com/2016/04/19/word2vec-tutorial-the-skip-gram-model/)\n",
    "\n",
    "skip-gramのモデルでは、単語のベクトル表現を求めるために、特定のタスクを実行するための単層隠れ層を持ったシンプルなニューラルネットワーク訓練します。しかし、そこでは私達は訓練されたタスクのために、ニューラルネットワークを使用しません。\n",
    "その代わり、隠れ層の重みを気にします。これらの重みは学習するためのword vectors もしくは embedding matrixです。\n",
    "\n",
    "私達がモデルとして学習しようとしている特定のフェークのタスクは与えられた中心の単語の近所を予測しています。文中の特定の単語を与えた場合、近くの単語を確認し、ランダムに1つピックアップします。ネットワークは私達が選択した近所の単語の語彙のすべての単語に対する可能性を教えてくれます。"
   ]
  },
  {
   "cell_type": "markdown",
   "metadata": {},
   "source": [
    "### Softmax, Negative Sampling, and Noise Contrastive Estimation\n",
    "\n",
    "CS 224Nでは、2つの訓練のメソッドを学びました。hierarchical softmaxとnegative samplingです。私達はsoftmaxを排除しました。それは正規化係数の計算コストが大きすぎるからです。そして、skip-gramのnegative samplingを学びました。\n",
    "\n",
    "Negative samplingは、その名の通り、サンプリングに基づくアプローチの有名なものです。Negative samplingはNoise Contrastive Estimation(NCE)と呼ばれるアプローチの簡単なモデルです。\n",
    "\n",
    "negative samplingはword embeddingsの学習に役立ちます。\n",
    "Word Embeddingとは、単語間の意味上の関係性を捉えることです。\n",
    "\n",
    "NCE は論理保証が良い。\n",
    "\n",
    "Samplingベースのアプローチは、negative samplingかNCEに関わらず、訓練に時間がかかります。"
   ]
  },
  {
   "cell_type": "markdown",
   "metadata": {},
   "source": [
    "### データセットに関して\n",
    "text8 は 100MBのクリーンなテキストです。これは英語のWikipediaからdumpしたものです。クリーンなテキストを使用することで、生のテキストを処理する時間をTensorFlowに集中させることができます。\n",
    "\n",
    "100MBは本当に良い word embeddingには十分ではありませんが、興味深い関係性を見るには十分です。17,005,207のトークンがスペースで区切られています。\n",
    "\n",
    "良い結果を得るために、wikipediaのdumpの最初の10^9byteのfil9データセットを使用すべきです。これは[Matt Mahoney’s website](https://cs.fit.edu/~mmahoney/compression/textdata.html) で言及されています。"
   ]
  },
  {
   "cell_type": "markdown",
   "metadata": {},
   "source": [
    "## どのようにしてTensorFlowのモデルを構築するか\n",
    "たった2つのモデルしか触っていないし、それらは似たような構造をしている。\n",
    "\n",
    "#### Phase1: グラフを組み立てる\n",
    "1. inputとoutputのplaceholderを定義する\n",
    "2. weightを定義する\n",
    "3. 推論モデルを定義する\n",
    "4. loss functionを定義する\n",
    "5. optimizerを定義する\n",
    "\n",
    "#### Phase2: 計算を実行する\n",
    "モデルの基本的な訓練のために、いくつかのステップを踏みます。\n",
    "1. 最初にすべてのvariablesを初期化します\n",
    "2. 訓練用データを与えます。データサンプルの順序はランダムかもしれません。\n",
    "3. 訓練データの推論モデルを実行します。\n",
    "4. コストを計算します\n",
    "5. モデルパラメータを調整します。\n"
   ]
  },
  {
   "cell_type": "code",
   "execution_count": 2,
   "metadata": {
    "collapsed": false
   },
   "outputs": [
    {
     "name": "stdout",
     "output_type": "stream",
     "text": [
      "Dataset ready\n",
      "Average loss at step 1999: 113.9\n",
      "Average loss at step 3999:  52.8\n",
      "Average loss at step 5999:  33.0\n",
      "Average loss at step 7999:  23.2\n",
      "Average loss at step 9999:  17.9\n"
     ]
    }
   ],
   "source": [
    "import numpy as np\n",
    "import tensorflow as tf\n",
    "from tensorflow.contrib.tensorboard.plugins import projector\n",
    "\n",
    "from process_data import process_data\n",
    "\n",
    "VOCAB_SIZE = 50000\n",
    "BATCH_SIZE = 128\n",
    "EMBED_SIZE = 128 # dimension of the word embedding vectors\n",
    "SKIP_WINDOW = 1 # the context window\n",
    "NUM_SAMPLED = 64    # Number of negative examples to sample.\n",
    "LEARNING_RATE = 1.0\n",
    "NUM_TRAIN_STEPS = 10000\n",
    "SKIP_STEP = 2000 # how many steps to skip before reporting the loss\n",
    "\n",
    "def word2vec(batch_gen):\n",
    "    \"\"\" Build the graph for word2vec model and train it \"\"\"\n",
    "    # Step 1: define the placeholders for input and output\n",
    "    # center_words have to be int to work on embedding lookup\n",
    "    center_words = tf.placeholder(tf.int32, shape=[BATCH_SIZE], name='center_words')\n",
    "    target_words = tf.placeholder(tf.int32, shape=[BATCH_SIZE, 1], name='target_words')\n",
    "\n",
    "    # Step 2: define weights. In word2vec, it's actually the weights that we care about\n",
    "    # vocab size x embed size\n",
    "    # initialized to random uniform -1 to 1\n",
    "    embed_matrix = tf.Variable(tf.random_uniform([VOCAB_SIZE, EMBED_SIZE], -1.0, 1.0), \n",
    "                            name='embed_matrix')\n",
    "\n",
    "    # Step 3: define the inference\n",
    "    # get the embed of input words using tf.nn.embedding_lookup\n",
    "    # embed = tf.nn.embedding_lookup(embed_matrix, center_words, name='embed')\n",
    "\n",
    "    embed = tf.nn.embedding_lookup(embed_matrix, center_words, name='embed')\n",
    "\n",
    "    # Step 4: construct variables for NCE loss\n",
    "    # tf.nn.nce_loss(weights, biases, labels, inputs, num_sampled, num_classes, ...)\n",
    "    # nce_weight (vocab size x embed size), intialized to truncated_normal stddev=1.0 / (EMBED_SIZE ** 0.5)\n",
    "    # bias: vocab size, initialized to 0\n",
    "    nce_weight = tf.Variable(tf.truncated_normal([VOCAB_SIZE, EMBED_SIZE],\n",
    "                                                stddev=1.0 / (EMBED_SIZE ** 0.5)), \n",
    "                                                name='nce_weight')\n",
    "    nce_bias = tf.Variable(tf.zeros([VOCAB_SIZE]), name='nce_bias')\n",
    "\n",
    "\n",
    "    # define loss function to be NCE loss function\n",
    "    # tf.nn.nce_loss(weights, biases, labels, inputs, num_sampled, num_classes, ...)\n",
    "    # need to get the mean accross the batch\n",
    "    loss = tf.reduce_mean(tf.nn.nce_loss(weights=nce_weight, \n",
    "                                        biases=nce_bias, \n",
    "                                        labels=target_words, \n",
    "                                        inputs=embed, \n",
    "                                        num_sampled=NUM_SAMPLED, \n",
    "                                        num_classes=VOCAB_SIZE), name='loss')\n",
    "\n",
    "\n",
    "    # Step 5: define optimizer\n",
    "    optimizer = tf.train.GradientDescentOptimizer(LEARNING_RATE).minimize(loss)\n",
    "    \n",
    "    with tf.Session() as sess:\n",
    "        sess.run(tf.global_variables_initializer())\n",
    "\n",
    "        total_loss = 0.0 # we use this to calculate the average loss in the last SKIP_STEP steps\n",
    "        writer = tf.summary.FileWriter('./my_graph/no_frills/', sess.graph)\n",
    "        for index in range(NUM_TRAIN_STEPS):\n",
    "            centers, targets = next(batch_gen)\n",
    "            loss_batch, _ = sess.run([loss, optimizer], feed_dict = {center_words: centers, target_words: targets})\n",
    "            total_loss += loss_batch\n",
    "            if (index + 1) % SKIP_STEP == 0:\n",
    "                print('Average loss at step {}: {:5.1f}'.format(index, total_loss / SKIP_STEP))\n",
    "                total_loss = 0.0\n",
    "        writer.close()\n",
    "\n",
    "def main():\n",
    "    batch_gen = process_data(VOCAB_SIZE, BATCH_SIZE, SKIP_WINDOW)\n",
    "    word2vec(batch_gen)\n",
    "\n",
    "if __name__ == '__main__':\n",
    "    main()"
   ]
  },
  {
   "cell_type": "code",
   "execution_count": 3,
   "metadata": {
    "collapsed": false
   },
   "outputs": [
    {
     "ename": "NameError",
     "evalue": "name 'sess' is not defined",
     "output_type": "error",
     "traceback": [
      "\u001b[0;31m---------------------------------------------------------------------------\u001b[0m",
      "\u001b[0;31mNameError\u001b[0m                                 Traceback (most recent call last)",
      "\u001b[0;32m<ipython-input-3-d4dcff92e193>\u001b[0m in \u001b[0;36m<module>\u001b[0;34m()\u001b[0m\n\u001b[1;32m      2\u001b[0m \u001b[0;34m\u001b[0m\u001b[0m\n\u001b[1;32m      3\u001b[0m \u001b[0;31m# obtain the embedding_matrix after you've trained it\u001b[0m\u001b[0;34m\u001b[0m\u001b[0;34m\u001b[0m\u001b[0m\n\u001b[0;32m----> 4\u001b[0;31m \u001b[0mfinal_embed_matrix\u001b[0m \u001b[0;34m=\u001b[0m \u001b[0msess\u001b[0m\u001b[0;34m.\u001b[0m\u001b[0mrun\u001b[0m\u001b[0;34m(\u001b[0m\u001b[0mmodel\u001b[0m\u001b[0;34m.\u001b[0m\u001b[0membed_matrix\u001b[0m\u001b[0;34m)\u001b[0m\u001b[0;34m\u001b[0m\u001b[0m\n\u001b[0m\u001b[1;32m      5\u001b[0m \u001b[0;34m\u001b[0m\u001b[0m\n\u001b[1;32m      6\u001b[0m \u001b[0;31m# Create a variable to hold your embeddings. It has to be a variable.\u001b[0m\u001b[0;34m\u001b[0m\u001b[0;34m\u001b[0m\u001b[0m\n",
      "\u001b[0;31mNameError\u001b[0m: name 'sess' is not defined"
     ]
    }
   ],
   "source": [
    "from tensorflow.contrib.tensorboard.plugins import projector\n",
    "\n",
    "# obtain the embedding_matrix after you've trained it\n",
    "final_embed_matrix = sess.run(model.embed_matrix)\n",
    "\n",
    "# Create a variable to hold your embeddings. It has to be a variable.\n",
    "# Constants don't work. You also can't just use the embed_matrix defined earlier for our model.\n",
    "# Why is that so ? I don't know. I get the 500 most popular words.\n",
    "embedding_var = tf.Variable(final_embed_matrix[:500], name = \"embedding\")\n",
    "sess.run(embedding_var.initializer)\n",
    "config = projector.ProjectorConfig()\n",
    "summary_writer = tf.summary.FileWriter(LOGDIR)\n",
    "\n",
    "# add embeddings to config\n",
    "embedding = config.embeddings.add()\n",
    "embedding.tensor_name = embedding_var.name\n",
    "\n",
    "# link the embeddings to their metadata file. In this case, the file that contains\n",
    "# the 500 most popular words in our vocabulary\n",
    "embedding.metadata_path = LOGDIR + '/vocab_500.tcv'\n",
    "\n",
    "# save a configuration file that TensorBoard will read during startup\n",
    "projector.visualize_embeddings(summary_writer, config=config)\n",
    "\n",
    "# save our embedding\n",
    "saver_embed = tf.train.Saver([embedding_var])\n",
    "saver_embed.save(sess, LOGDIR + '/skip-gram.ckpt', 1)"
   ]
  },
  {
   "cell_type": "code",
   "execution_count": null,
   "metadata": {
    "collapsed": true
   },
   "outputs": [],
   "source": []
  }
 ],
 "metadata": {
  "anaconda-cloud": {},
  "kernelspec": {
   "display_name": "Python 3",
   "language": "python",
   "name": "python3"
  },
  "language_info": {
   "codemirror_mode": {
    "name": "ipython",
    "version": 3
   },
   "file_extension": ".py",
   "mimetype": "text/x-python",
   "name": "python",
   "nbconvert_exporter": "python",
   "pygments_lexer": "ipython3",
   "version": "3.5.2"
  }
 },
 "nbformat": 4,
 "nbformat_minor": 2
}
