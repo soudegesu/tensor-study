{
 "cells": [
  {
   "cell_type": "markdown",
   "metadata": {
    "collapsed": true
   },
   "source": [
    "# Basic Models in TensorFlow"
   ]
  },
  {
   "cell_type": "markdown",
   "metadata": {},
   "source": [
    "## Agenda\n",
    "* Liner regression in TensorFlow\n",
    "* Optimizers\n",
    "* Logistic regression on MNIST\n",
    "* Loss functions"
   ]
  },
  {
   "cell_type": "markdown",
   "metadata": {},
   "source": [
    "## 振り返り\n",
    "### graphの計算\n",
    "* TensorFlowは計算の定義とその実行を分けている\n",
    "    * Phase1: graph を組み立てる\n",
    "    * Phase2: graphの演算を実行するために、sessionを使用する"
   ]
  },
  {
   "cell_type": "code",
   "execution_count": 1,
   "metadata": {
    "collapsed": true
   },
   "outputs": [],
   "source": [
    "# TensorBoardはFileWriterオブジェクトを生成することでgraphをevent fileに書き出すことができる\n",
    "\n",
    "import tensorflow as tf\n",
    "a = 2 \n",
    "b = 3 \n",
    "x = tf.add(a, b)\n",
    "y = tf.multiply(a, b)\n",
    "useless = tf.multiply(a, x)\n",
    "z = tf.pow(y, x)\n",
    "with tf.Session() as sess:\n",
    "    z = sess.run(z)"
   ]
  },
  {
   "cell_type": "markdown",
   "metadata": {},
   "source": [
    "### tf.constant と tf.Variables\n",
    "* Constant valueがgraph定義にストアされる\n",
    "* Sessionはストアする変数にメモリを割り当てる\n",
    "\n",
    "### tf.placeholder と feed_dict\n",
    "* 値を辞書型によってplaceholderに与えることができる\n",
    "* variablesにも同様に入れることができる\n",
    "\n",
    "### Lazy loading を避ける\n",
    "* graphの組み立てとopsの実行を分ける\n",
    "* 関数が呼び出された際の一度だけloadされることを保証するためにPythonのattributeを使用する"
   ]
  },
  {
   "cell_type": "code",
   "execution_count": 2,
   "metadata": {
    "collapsed": false
   },
   "outputs": [
    {
     "data": {
      "image/png": "[encoded data removed]",
      "text/plain": [
       "<matplotlib.figure.Figure at 0x10f672550>"
      ]
     },
     "metadata": {},
     "output_type": "display_data"
    }
   ],
   "source": [
    "\"\"\"\n",
    "Simple linear regression example in TensorFlow\n",
    "This program tries to predict the number of thefts from \n",
    "the number of fire in the city of Chicago\n",
    "\"\"\"\n",
    "\n",
    "import numpy as np\n",
    "import matplotlib.pyplot as plt\n",
    "import tensorflow as tf\n",
    "import xlrd\n",
    "\n",
    "DATA_FILE = '../data/fire_theft.xls'\n",
    "\n",
    "# Phase 1: Assemble the graph\n",
    "# Step 1: read in data from the .xls file\n",
    "book = xlrd.open_workbook(DATA_FILE, encoding_override='utf-8')\n",
    "sheet = book.sheet_by_index(0)\n",
    "data = np.asarray([sheet.row_values(i) for i in range(1, sheet.nrows)])\n",
    "n_samples = sheet.nrows - 1\n",
    "\n",
    "# Step 2: create placeholders for input X (number of fire) and label Y (number of theft)\n",
    "X = tf.placeholder(tf.float32, name=\"X\")\n",
    "Y = tf.placeholder(tf.float32, name=\"Y\")\n",
    "\n",
    "# Step 3: create weight and bias, initialized to 0\n",
    "# name your variables w and b\n",
    "w = tf.Variable(0.0, name=\"weight\") \n",
    "b = tf.Variable(0.0, name=\"bias\")\n",
    "\n",
    "# Step 4: predict Y (number of theft) from the number of fire\n",
    "# name your variable Y_predicted\n",
    "Y_predicted = X * w + b\n",
    "\n",
    "# Step 5: use the square error as the loss function\n",
    "# name your variable loss\n",
    "loss = tf.square(Y - Y_predicted, name=\"loss\")\n",
    "\n",
    "# Step 6: using gradient descent with learning rate of 0.01 to minimize loss\n",
    "optimizer = tf.train.GradientDescentOptimizer(learning_rate=0.001).minimize(loss)\n",
    " \n",
    "# Phase 2: Train our model\n",
    "with tf.Session() as sess:\n",
    "    #writer = tf.summary.FileWriter('./my_graph/03/liner_reg', sess.graph)\n",
    "    # Step 7: initialize the necessary variables, in this case, w and b\n",
    "    sess.run(tf.global_variables_initializer())\n",
    "    \n",
    "    writer = tf.summary.FileWriter('./my_graph/03/linear_reg', sess.graph)\n",
    "    # Step 8: train the model\n",
    "    for i in range(100): # run 100 epochs\n",
    "        total_loss = 0\n",
    "        for x, y in data:\n",
    "            # Session runs optimizer to minimize loss and fetch the value of loss\n",
    "            _, l = sess.run([optimizer, loss], feed_dict={X: x, Y:y})\n",
    "            total_loss += l\n",
    "        #print(\"Epoch {0}: {1}\".format(i, total_loss/n_samples))\n",
    "    w, b = sess.run([w, b])\n",
    "\n",
    "# plot the results\n",
    "X, Y = data.T[0], data.T[1]\n",
    "plt.plot(X, Y, 'bo', label='Real data')\n",
    "plt.plot(X, X * w + b, 'r', label='Predicted data')\n",
    "plt.legend()\n",
    "plt.show()"
   ]
  },
  {
   "cell_type": "markdown",
   "metadata": {},
   "source": [
    "## Discussion question\n",
    "1. モデルの正しさをどうやって知るか？\n",
    "2. モデルをどうやって改善するか？\n",
    "\n",
    "上のoutputではあまりfitしていないように見える。。\n",
    "\n",
    "\n",
    "## Huber loss\n",
    "* ロバスト推定での回帰や、サポートベクトル回帰の損失関数として利用される。xが0から遠いところでは線形にしか増加しないため、はずれ値の影響が2次の損失関数と比べてずっと小さい。また、絶対損失と異なり、定義域全体で微分可能なため便利。"
   ]
  },
  {
   "cell_type": "code",
   "execution_count": 3,
   "metadata": {
    "collapsed": true
   },
   "outputs": [],
   "source": [
    "# Huber loss 関数\n",
    "def huber_loss(labels, predictions, delta=1.0):\n",
    "    residual = tf.abs(predictions - labels)\n",
    "    condition = tf.less(residual, delta)\n",
    "    small_res = 0.5 * tf.square(residual)\n",
    "    large_res = delta * residual - 0.5 * tf.square(delta)\n",
    "    return tf.where(condition, small_res, large_res)"
   ]
  },
  {
   "cell_type": "code",
   "execution_count": 4,
   "metadata": {
    "collapsed": false
   },
   "outputs": [
    {
     "data": {
      "image/png": "[encoded data removed]",
      "text/plain": [
       "<matplotlib.figure.Figure at 0x10fc36630>"
      ]
     },
     "metadata": {},
     "output_type": "display_data"
    }
   ],
   "source": [
    "\"\"\"\n",
    "quadratic function(二次関数)だとうまくいくだろうか?\n",
    "\"\"\"\n",
    "\n",
    "import numpy as np\n",
    "import matplotlib.pyplot as plt\n",
    "import tensorflow as tf\n",
    "import xlrd\n",
    "\n",
    "DATA_FILE = '../data/fire_theft.xls'\n",
    "\n",
    "# Phase 1: Assemble the graph\n",
    "# Step 1: read in data from the .xls file\n",
    "book = xlrd.open_workbook(DATA_FILE, encoding_override='utf-8')\n",
    "sheet = book.sheet_by_index(0)\n",
    "data = np.asarray([sheet.row_values(i) for i in range(1, sheet.nrows)])\n",
    "n_samples = sheet.nrows - 1\n",
    "\n",
    "# Step 2: create placeholders for input X (number of fire) and label Y (number of theft)\n",
    "X = tf.placeholder(tf.float32, name=\"X\")\n",
    "Y = tf.placeholder(tf.float32, name=\"Y\")\n",
    "\n",
    "# Step 3: create weight and bias, initialized to 0\n",
    "# name your variables w and b\n",
    "w = tf.Variable(0.0, name=\"weights_1\")\n",
    "u = tf.Variable(0.0, name=\"weights_2\")\n",
    "b = tf.Variable(0.0, name=\"bias\")\n",
    "\n",
    "# Step 4: predict Y (number of theft) from the number of fire\n",
    "# name your variable Y_predicted\n",
    "Y_predicted = X * X * w + X * u + b\n",
    "\n",
    "# Step 5: use the square error as the loss function\n",
    "# name your variable loss\n",
    "# Huber lossを使用する場合、\n",
    "# Y - Y_predicted < delta の場合には描画できない\n",
    "loss = tf.square(huber_loss(Y, Y_predicted, delta=0.01), name=\"loss\")\n",
    "\n",
    "# Step 6: using gradient descent with learning rate of 0.01 to minimize loss\n",
    "optimizer = tf.train.GradientDescentOptimizer(learning_rate=0.001).minimize(loss)\n",
    " \n",
    "# Phase 2: Train our model\n",
    "with tf.Session() as sess:\n",
    "    #writer = tf.summary.FileWriter('./my_graph/03/liner_reg', sess.graph)\n",
    "    # Step 7: initialize the necessary variables, in this case, w and b\n",
    "    sess.run(tf.global_variables_initializer())\n",
    "    \n",
    "    #writer = tf.summary.FileWriter('./my_graph/03/linear_reg', sess.graph)\n",
    "    # Step 8: train the model\n",
    "    for i in range(10): # run 10 epochs\n",
    "        total_loss = 0\n",
    "        for x, y in data:\n",
    "            # Session runs optimizer to minimize loss and fetch the value of loss\n",
    "            _, l = sess.run([optimizer, loss], feed_dict={X: x, Y:y})\n",
    "            total_loss += l\n",
    "        #print(\"Epoch {0}: {1}\".format(i, total_loss/n_samples))\n",
    "    w, u, b = sess.run([w, u, b])\n",
    "\n",
    "# plot the results\n",
    "X, Y = data.T[0], data.T[1]\n",
    "plt.plot(X, Y, 'bo', label='Real data')\n",
    "plt.plot(X, X * X * w + X * u + b, 'ro', label='Predicted data')\n",
    "plt.legend()\n",
    "plt.show()"
   ]
  },
  {
   "cell_type": "markdown",
   "metadata": {},
   "source": [
    "線形関数よりも少ない回数で収束しました。しかし、まだ異常値のため完全ではありません。もしかしたら、関数fとしてMSEや3rd degree polynomialの代わりにHuber lossの方がよいのかもしれません。\n",
    "\n",
    "2次関数モデルにHuber lossを使用することで、異常値の無視が少しだけよくなりました。"
   ]
  },
  {
   "cell_type": "markdown",
   "metadata": {},
   "source": [
    "### モデルの正しさをどうやって知るか？\n",
    "#### R2乗の相関係数を使用する\n",
    "あなたが`R-squared`を知らないのであれば、Minitabが[blog post](http://blog.minitab.com/blog/adventures-in-statistics-2/regression-analysis-how-do-i-interpret-r-squared-and-assess-the-goodness-of-fit)で説明してくれています。\n",
    "\n",
    "要点を言うと、\n",
    "R-squared はデータがどの程度回帰線にフィットされているかの統計的尺度です。\n",
    "\n",
    "それは決定係数または重回帰の寄与率(重相関係数)として知られている。\n",
    "\n",
    "R-squaredの定義は直線的である。それは線形モデルによって説明されるresponse variable variationのパーセンテージである。\n",
    "\n",
    "```\n",
    "R-squared = Explined variation / Total Variation\n",
    "```\n",
    "\n",
    "#### テストセットを実行する\n",
    "私達はvalidationやtestingに帰着する機械学習のクラスを学んでいます。そのため、最初のメソッドは私達のテストセット上のテストモデルを明らかにすることである。\n",
    "訓練用のデータセットを別で持ち、検証し、テストをすることは素晴らしい。しかし、これは私達の訓練用データが不足する可能性があることを意味する。多くの文献が、k-fold cross validationのように、多くの予備のデータを持っていない場合に直面した場合の助けとなる。\n",
    "\n",
    "#### ダミーデータでモデルをテストする\n",
    "別の方法として、ダミーデータでテストを行うことがあげられる。例えば、今回の場合、モデルをテストするために私達が既に知っている線形な相関を持ったダミーデータをいくつか作成できる。今回、Y = 3 * X を満たす100のデータ点(X, Y)を作成しましょう。そして、モデルのアウトプットが w =3, b = 0かどうかを見てみましょう。\n",
    "\n",
    "ダミーデータを生成する："
   ]
  },
  {
   "cell_type": "code",
   "execution_count": 5,
   "metadata": {
    "collapsed": false
   },
   "outputs": [
    {
     "data": {
      "image/png": "[encoded data removed]",
      "text/plain": [
       "<matplotlib.figure.Figure at 0x1057d1b38>"
      ]
     },
     "metadata": {},
     "output_type": "display_data"
    }
   ],
   "source": [
    "import numpy as np\n",
    "\n",
    "X_input = np.linspace(-1, 1, 100)\n",
    "Y_input = X_input * 3 + np.random.randn(X_input.shape[0]) * 0.5\n",
    "\n",
    "# plot the results\n",
    "X, Y = X_input, Y_input\n",
    "plt.plot(X, Y, 'bo', label='Real data')\n",
    "plt.plot(X, X * 3 + 0, 'r', label='Predicted data')\n",
    "plt.legend()\n",
    "\n",
    "\n",
    "plt.show()"
   ]
  },
  {
   "cell_type": "markdown",
   "metadata": {},
   "source": [
    "#### analyze code\n",
    "モデルのcodeはまさに直線的です。以下2行を除外します。\n",
    "\n",
    "``` python\n",
    "optimizer = tf.train.GradientDescentOptimizer(learning_rate=0.01).minimize(loss)\n",
    "sess.run(optimizer, feed_dict={X:x, Y:y})\n",
    "```\n",
    "\n",
    "これらに似たコードを初めて実行したことを覚えていて、とても混乱しました。2つの疑問があります。\n",
    "1. なぜ、tf.Session.run()のフェッチリストにtarin_opがあるのか。\n",
    "2. TensorFlowがどのようにして変数が更新されたことを知るのか。\n",
    "\n",
    "Session.run()のフェッチとしてTensorFlowのopsを実装に渡すことができます。TensorFlowはこれらのopsが依存するgraphの部分を実行するでしょう。この場合、train_opがloss関数を最小化することを目的にしていて、lossは変数wとbに依存することがわかります。\n",
    "\n",
    "graphから、大きなnode(GradientDecentOptimizer)がweight、bias、gradientsのつのnodeに依存していることがわかります。"
   ]
  },
  {
   "cell_type": "markdown",
   "metadata": {
    "collapsed": true
   },
   "source": [
    "## Optimizer\n",
    "\n",
    "`GradientDecentOptimizer`(最急降下法オプティマイザ)は私たちの更新ルールが最急降下法であることを意味します。TensorFlowは自動で差分を計算し、loss関数の値を小さくするためにwやbの値を更新します。\n",
    "\n",
    "デフォルトでは、optimizerはオブジェクト関数が依存するすべての訓練可能な変数を訓練します。もし、訓練する必要がない変数があった場合、trainableをFalseに設定してください。以下は変数global_stepにて訓練する必要がない例です。\n",
    "共通の変数は、モデルが何回実行されたかを追うために、多くのTensorFlowのモデルで見ることができます。\n"
   ]
  },
  {
   "cell_type": "code",
   "execution_count": 9,
   "metadata": {
    "collapsed": false
   },
   "outputs": [
    {
     "ename": "NameError",
     "evalue": "name 'GradientDesentOptimizer' is not defined",
     "output_type": "error",
     "traceback": [
      "\u001b[0;31m---------------------------------------------------------------------------\u001b[0m",
      "\u001b[0;31mNameError\u001b[0m                                 Traceback (most recent call last)",
      "\u001b[0;32m<ipython-input-9-72abe9d96cf1>\u001b[0m in \u001b[0;36m<module>\u001b[0;34m()\u001b[0m\n\u001b[1;32m      7\u001b[0m \u001b[0;34m\u001b[0m\u001b[0m\n\u001b[1;32m      8\u001b[0m \u001b[0;31m# learning_rateはtensorになる\u001b[0m\u001b[0;34m\u001b[0m\u001b[0;34m\u001b[0m\u001b[0m\n\u001b[0;32m----> 9\u001b[0;31m \u001b[0moptimizer\u001b[0m \u001b[0;34m=\u001b[0m \u001b[0mGradientDesentOptimizer\u001b[0m\u001b[0;34m(\u001b[0m\u001b[0mlearning_rate\u001b[0m\u001b[0;34m)\u001b[0m\u001b[0;34m\u001b[0m\u001b[0m\n\u001b[0m",
      "\u001b[0;31mNameError\u001b[0m: name 'GradientDesentOptimizer' is not defined"
     ]
    }
   ],
   "source": [
    "import tensorflow as tf\n",
    "\n",
    "global_step = tf.Variable(0, trainable=False, dtype=tf.int32)\n",
    "learning_rate = 0.01 * 0.99 ** tf.cast(global_step, tf.float32)\n",
    "\n",
    "increment_step = global_step.assign_add(1)\n",
    "\n",
    "# learning_rateはtensorになる\n",
    "optimizer = GradientDesentOptimizer(learning_rate)\n"
   ]
  },
  {
   "cell_type": "markdown",
   "metadata": {
    "collapsed": true
   },
   "source": [
    "optimizerに対して変数が線形に変化しているか確認することができる。\n",
    "optimizer によって計算されたその勾配を修正することができる。\n",
    "\n",
    "```\n",
    "import tensorflow as tf\n",
    "\n",
    "# create optimizer\n",
    "optimizer = tf.GradientDecentOptimizer(learning_rate = 0.1)\n",
    "\n",
    "# compute the gradients for a list of variables.\n",
    "grads_and_vars = opt.compute_gradients(loss, <list of variables>)\n",
    "\n",
    "# grads_and_vars is a list of tuples (gradient, variable).\n",
    "# Do whatever you need to the 'gradient' part, for example, subtract each them by 1.\n",
    "subtracted_grads_and_vars = [(gv[0] - 1.0, gv[1]) for gv in grads_and_vars]\n",
    "\n",
    "# ask the optimizer to apply the subtracted gradients.\n",
    "optimizer.apply_gradients(subtracted_grads_and_vars)\n",
    "```"
   ]
  },
  {
   "cell_type": "markdown",
   "metadata": {
    "collapsed": true
   },
   "source": [
    "## ロジスティック回帰\n",
    "### MNIST\n",
    "* X: 手書きの数字\n",
    "* Y: 数字の値\n",
    "画像は28 × 28ピクセルで、1次元のtensorは784。それぞれに正解データとしてのラベルがついている。"
   ]
  },
  {
   "cell_type": "code",
   "execution_count": 13,
   "metadata": {
    "collapsed": false
   },
   "outputs": [
    {
     "name": "stdout",
     "output_type": "stream",
     "text": [
      "Successfully downloaded train-images-idx3-ubyte.gz 9912422 bytes.\n",
      "Extracting ../data/mnist/train-images-idx3-ubyte.gz\n",
      "Successfully downloaded train-labels-idx1-ubyte.gz 28881 bytes.\n",
      "Extracting ../data/mnist/train-labels-idx1-ubyte.gz\n",
      "Successfully downloaded t10k-images-idx3-ubyte.gz 1648877 bytes.\n",
      "Extracting ../data/mnist/t10k-images-idx3-ubyte.gz\n",
      "Successfully downloaded t10k-labels-idx1-ubyte.gz 4542 bytes.\n",
      "Extracting ../data/mnist/t10k-labels-idx1-ubyte.gz\n"
     ]
    }
   ],
   "source": [
    "import time\n",
    "import numpy as np\n",
    "import tensorflow as tf\n",
    "from tensorflow.examples.tutorials.mnist import input_data\n",
    "\n",
    "# Step1. mnist dataを読み込む\n",
    "MNIST = input_data.read_data_sets(\"../data/mnist\", one_hot=True)\n",
    "\n",
    "# Step2. モデルのパラメータを定義する\n",
    "learning_rate = 0.01\n",
    "batch_size = 128\n",
    "n_epochs = 25\n",
    "\n",
    "# Step3: feature用のplaceholderとlabelを作成する\n",
    "# MNIST画像は28 * 28 = 784 のshape\n",
    "# そのため、1* 784 の tensor に置き換えることが可能\n",
    "# それぞれの画像に対して10個のクラスが存在する。0-9の数字に対応している\n",
    "# ラベルは one-hotなベクトルである。(1つだけ1が立つようになっている)\n",
    "X = tf.placeholder(tf.float32, [batch_size, 784])\n",
    "Y = tf.placeholder(tf.float32, [batch_size, 10])\n",
    "\n",
    "# Step4: weightとbiasを作成する\n",
    "# w はランダムな変数で初期化する。平均して0になるようになっている。標準偏差は0.01\n",
    "# b は0で初期化する\n",
    "# wのshapeはXとYの次元数に依存する。以下を満たす、 Y = tf.matmul(X, w)\n",
    "# bのshapeはYに依存する\n",
    "w = tf.Variable(tf.random_normal(shape=[784, 10], stddev=0.01), name=\"wiights\")\n",
    "b = tf.Variable(tf.zeros([1, 10]), name=\"bias\")\n",
    "\n",
    "# Step5: X, w, bから Y を予測する\n",
    "# softmax層を通じて、画像ラベルの確率の確率分布を返却する\n",
    "# batch_size * 10 tensorはその数字である確率を表す\n",
    "logits = tf.matmul(X, w) + b\n",
    "\n",
    "# Step6: loss関数を定義する\n",
    "# loss functionとしてのlogitsと一緒にsoftmaxのcross entropyを使用する\n",
    "# cross entropyを計算することは, softmaxが内部で適用されていることを意味します\n",
    "entropy = tf.nn.softmax_cross_entropy_with_logits(logits, Y)\n",
    "loss = tf.reduce_mean(entropy) # compute the mean over exampes in batch\n",
    "\n",
    "# Step7: 訓練用のopを定義する\n",
    "# gradient descentを使用する。larningrateは0.01を最小化コストとして適用する\n",
    "optimizer = tf.train.GradientDescentOptimizer(learning_rate=learning_rate).minimize(loss)\n",
    "\n",
    "init = tf.global_variables_initializer()\n",
    "\n",
    "with tf.Session() as sess:\n",
    "    sess.run(init)\n",
    "    n_batches = int(MNIST.train.num_examples / batch_size)\n",
    "    for i in range(n_epochs): # modelをn_epoch回学習させる\n",
    "        for _ in range(n_batches):\n",
    "            X_batch, Y_batch = MNIST.train.next_batch(batch_size)\n",
    "            sess.run([optimizer, loss], feed_dict={X: X_batch, Y:Y_batch})\n",
    "# 25 epoch施行後に0.35程度のlossであるべき\n",
    "\n",
    "# モデルのテスト\n",
    "    n_batches = int(MNIST.test.num_examples / batch_size)\n",
    "    total"
   ]
  },
  {
   "cell_type": "code",
   "execution_count": null,
   "metadata": {
    "collapsed": true
   },
   "outputs": [],
   "source": []
  },
  {
   "cell_type": "code",
   "execution_count": null,
   "metadata": {
    "collapsed": true
   },
   "outputs": [],
   "source": []
  }
 ],
 "metadata": {
  "kernelspec": {
   "display_name": "Python 3",
   "language": "python",
   "name": "python3"
  },
  "language_info": {
   "codemirror_mode": {
    "name": "ipython",
    "version": 3
   },
   "file_extension": ".py",
   "mimetype": "text/x-python",
   "name": "python",
   "nbconvert_exporter": "python",
   "pygments_lexer": "ipython3",
   "version": "3.5.2"
  }
 },
 "nbformat": 4,
 "nbformat_minor": 2
}
