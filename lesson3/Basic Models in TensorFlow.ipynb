{
 "cells": [
  {
   "cell_type": "markdown",
   "metadata": {
    "collapsed": true
   },
   "source": [
    "# Basic Models in TensorFlow"
   ]
  },
  {
   "cell_type": "markdown",
   "metadata": {},
   "source": [
    "## Agenda\n",
    "* Liner regression in TensorFlow\n",
    "* Optimizers\n",
    "* Logistic regression on MNIST\n",
    "* Loss functions"
   ]
  },
  {
   "cell_type": "markdown",
   "metadata": {},
   "source": [
    "## 振り返り\n",
    "### graphの計算\n",
    "* TensorFlowは計算の定義とその実行を分けている\n",
    "    * Phase1: graph を組み立てる\n",
    "    * Phase2: graphの演算を実行するために、sessionを使用する"
   ]
  },
  {
   "cell_type": "code",
   "execution_count": 1,
   "metadata": {
    "collapsed": true
   },
   "outputs": [],
   "source": [
    "# TensorBoardはFileWriterオブジェクトを生成することでgraphをevent fileに書き出すことができる\n",
    "\n",
    "import tensorflow as tf\n",
    "a = 2 \n",
    "b = 3 \n",
    "x = tf.add(a, b)\n",
    "y = tf.multiply(a, b)\n",
    "useless = tf.multiply(a, x)\n",
    "z = tf.pow(y, x)\n",
    "with tf.Session() as sess:\n",
    "    z = sess.run(z)"
   ]
  },
  {
   "cell_type": "markdown",
   "metadata": {},
   "source": [
    "### tf.constant と tf.Variables\n",
    "* Constant valueがgraph定義にストアされる\n",
    "* Sessionはストアする変数にメモリを割り当てる\n",
    "\n",
    "### tf.placeholder と feed_dict\n",
    "* 値を辞書型によってplaceholderに与えることができる\n",
    "* variablesにも同様に入れることができる\n",
    "\n",
    "### Lazy loading を避ける\n",
    "* graphの組み立てとopsの実行を分ける\n",
    "* 関数が呼び出された際の一度だけloadされることを保証するためにPythonのattributeを使用する"
   ]
  },
  {
   "cell_type": "code",
   "execution_count": 2,
   "metadata": {
    "collapsed": false
   },
   "outputs": [
    {
     "data": {
      "image/png": "[encoded data removed]",
      "text/plain": [
       "<matplotlib.figure.Figure at 0x10fe73c50>"
      ]
     },
     "metadata": {},
     "output_type": "display_data"
    }
   ],
   "source": [
    "\"\"\"\n",
    "Simple linear regression example in TensorFlow\n",
    "This program tries to predict the number of thefts from \n",
    "the number of fire in the city of Chicago\n",
    "\"\"\"\n",
    "\n",
    "import numpy as np\n",
    "import matplotlib.pyplot as plt\n",
    "import tensorflow as tf\n",
    "import xlrd\n",
    "\n",
    "DATA_FILE = '../data/fire_theft.xls'\n",
    "\n",
    "# Phase 1: Assemble the graph\n",
    "# Step 1: read in data from the .xls file\n",
    "book = xlrd.open_workbook(DATA_FILE, encoding_override='utf-8')\n",
    "sheet = book.sheet_by_index(0)\n",
    "data = np.asarray([sheet.row_values(i) for i in range(1, sheet.nrows)])\n",
    "n_samples = sheet.nrows - 1\n",
    "\n",
    "# Step 2: create placeholders for input X (number of fire) and label Y (number of theft)\n",
    "X = tf.placeholder(tf.float32, name=\"X\")\n",
    "Y = tf.placeholder(tf.float32, name=\"Y\")\n",
    "\n",
    "# Step 3: create weight and bias, initialized to 0\n",
    "# name your variables w and b\n",
    "w = tf.Variable(0.0, name=\"weight\") \n",
    "b = tf.Variable(0.0, name=\"bias\")\n",
    "\n",
    "# Step 4: predict Y (number of theft) from the number of fire\n",
    "# name your variable Y_predicted\n",
    "Y_predicted = X * w + b\n",
    "\n",
    "# Step 5: use the square error as the loss function\n",
    "# name your variable loss\n",
    "loss = tf.square(Y - Y_predicted, name=\"loss\")\n",
    "\n",
    "# Step 6: using gradient descent with learning rate of 0.01 to minimize loss\n",
    "optimizer = tf.train.GradientDescentOptimizer(learning_rate=0.001).minimize(loss)\n",
    " \n",
    "# Phase 2: Train our model\n",
    "with tf.Session() as sess:\n",
    "    #writer = tf.summary.FileWriter('./my_graph/03/liner_reg', sess.graph)\n",
    "    # Step 7: initialize the necessary variables, in this case, w and b\n",
    "    sess.run(tf.global_variables_initializer())\n",
    "    \n",
    "    writer = tf.summary.FileWriter('./my_graph/03/linear_reg', sess.graph)\n",
    "    # Step 8: train the model\n",
    "    for i in range(100): # run 100 epochs\n",
    "        total_loss = 0\n",
    "        for x, y in data:\n",
    "            # Session runs optimizer to minimize loss and fetch the value of loss\n",
    "            _, l = sess.run([optimizer, loss], feed_dict={X: x, Y:y})\n",
    "            total_loss += l\n",
    "        #print(\"Epoch {0}: {1}\".format(i, total_loss/n_samples))\n",
    "    w, b = sess.run([w, b])\n",
    "\n",
    "# plot the results\n",
    "X, Y = data.T[0], data.T[1]\n",
    "plt.plot(X, Y, 'bo', label='Real data')\n",
    "plt.plot(X, X * w + b, 'r', label='Predicted data')\n",
    "plt.legend()\n",
    "plt.show()"
   ]
  },
  {
   "cell_type": "markdown",
   "metadata": {},
   "source": [
    "## Discussion question\n",
    "1. モデルの正しさをどうやって知るか？\n",
    "2. モデルをどうやって改善するか？\n",
    "\n",
    "上のoutputではあまりfitしていないように見える。。\n",
    "\n",
    "\n",
    "## Huber loss\n",
    "* ロバスト推定での回帰や、サポートベクトル回帰の損失関数として利用される。xが0から遠いところでは線形にしか増加しないため、はずれ値の影響が2次の損失関数と比べてずっと小さい。また、絶対損失と異なり、定義域全体で微分可能なため便利。"
   ]
  },
  {
   "cell_type": "code",
   "execution_count": 3,
   "metadata": {
    "collapsed": true
   },
   "outputs": [],
   "source": [
    "# Huber loss 関数\n",
    "def huber_loss(labels, predictions, delta=1.0):\n",
    "    residual = tf.abs(predictions - labels)\n",
    "    condition = tf.less(residual, delta)\n",
    "    small_res = 0.5 * tf.square(residual)\n",
    "    large_res = delta * residual - 0.5 * tf.square(delta)\n",
    "    return tf.where(condition, small_res, large_res)"
   ]
  },
  {
   "cell_type": "code",
   "execution_count": 4,
   "metadata": {
    "collapsed": false
   },
   "outputs": [
    {
     "data": {
      "image/png": "[encoded data removed]",
      "text/plain": [
       "<matplotlib.figure.Figure at 0x10fe73c88>"
      ]
     },
     "metadata": {},
     "output_type": "display_data"
    }
   ],
   "source": [
    "\"\"\"\n",
    "quadratic function(二次関数)だとうまくいくだろうか?\n",
    "\"\"\"\n",
    "\n",
    "import numpy as np\n",
    "import matplotlib.pyplot as plt\n",
    "import tensorflow as tf\n",
    "import xlrd\n",
    "\n",
    "DATA_FILE = '../data/fire_theft.xls'\n",
    "\n",
    "# Phase 1: Assemble the graph\n",
    "# Step 1: read in data from the .xls file\n",
    "book = xlrd.open_workbook(DATA_FILE, encoding_override='utf-8')\n",
    "sheet = book.sheet_by_index(0)\n",
    "data = np.asarray([sheet.row_values(i) for i in range(1, sheet.nrows)])\n",
    "n_samples = sheet.nrows - 1\n",
    "\n",
    "# Step 2: create placeholders for input X (number of fire) and label Y (number of theft)\n",
    "X = tf.placeholder(tf.float32, name=\"X\")\n",
    "Y = tf.placeholder(tf.float32, name=\"Y\")\n",
    "\n",
    "# Step 3: create weight and bias, initialized to 0\n",
    "# name your variables w and b\n",
    "w = tf.Variable(0.0, name=\"weights_1\")\n",
    "u = tf.Variable(0.0, name=\"weights_2\")\n",
    "b = tf.Variable(0.0, name=\"bias\")\n",
    "\n",
    "# Step 4: predict Y (number of theft) from the number of fire\n",
    "# name your variable Y_predicted\n",
    "Y_predicted = X * X * w + X * u + b\n",
    "\n",
    "# Step 5: use the square error as the loss function\n",
    "# name your variable loss\n",
    "# Huber lossを使用する場合、\n",
    "# Y - Y_predicted < delta の場合には描画できない\n",
    "loss = tf.square(huber_loss(Y, Y_predicted, delta=0.01), name=\"loss\")\n",
    "\n",
    "# Step 6: using gradient descent with learning rate of 0.01 to minimize loss\n",
    "optimizer = tf.train.GradientDescentOptimizer(learning_rate=0.001).minimize(loss)\n",
    " \n",
    "# Phase 2: Train our model\n",
    "with tf.Session() as sess:\n",
    "    #writer = tf.summary.FileWriter('./my_graph/03/liner_reg', sess.graph)\n",
    "    # Step 7: initialize the necessary variables, in this case, w and b\n",
    "    sess.run(tf.global_variables_initializer())\n",
    "    \n",
    "    #writer = tf.summary.FileWriter('./my_graph/03/linear_reg', sess.graph)\n",
    "    # Step 8: train the model\n",
    "    for i in range(10): # run 10 epochs\n",
    "        total_loss = 0\n",
    "        for x, y in data:\n",
    "            # Session runs optimizer to minimize loss and fetch the value of loss\n",
    "            _, l = sess.run([optimizer, loss], feed_dict={X: x, Y:y})\n",
    "            total_loss += l\n",
    "        #print(\"Epoch {0}: {1}\".format(i, total_loss/n_samples))\n",
    "    w, u, b = sess.run([w, u, b])\n",
    "\n",
    "# plot the results\n",
    "X, Y = data.T[0], data.T[1]\n",
    "plt.plot(X, Y, 'bo', label='Real data')\n",
    "plt.plot(X, X * X * w + X * u + b, 'ro', label='Predicted data')\n",
    "plt.legend()\n",
    "plt.show()"
   ]
  },
  {
   "cell_type": "markdown",
   "metadata": {},
   "source": [
    "線形関数よりも少ない回数で収束しました。しかし、まだ異常値のため完全ではありません。もしかしたら、関数fとしてMSEや3rd degree polynomialの代わりにHuber lossの方がよいのかもしれません。\n",
    "\n",
    "2次関数モデルにHuber lossを使用することで、異常値の無視が少しだけよくなりました。"
   ]
  },
  {
   "cell_type": "markdown",
   "metadata": {},
   "source": [
    "### モデルの正しさをどうやって知るか？\n",
    "#### R2乗の相関係数を使用する\n",
    "あなたが`R-squared`を知らないのであれば、Minitabが[blog post](http://blog.minitab.com/blog/adventures-in-statistics-2/regression-analysis-how-do-i-interpret-r-squared-and-assess-the-goodness-of-fit)で説明してくれています。\n",
    "\n",
    "要点を言うと、\n",
    "R-squared はデータがどの程度回帰線にフィットされているかの統計的尺度です。\n",
    "\n",
    "それは決定係数または重回帰の寄与率(重相関係数)として知られている。\n",
    "\n",
    "R-squaredの定義は直線的である。それは線形モデルによって説明されるresponse variable variationのパーセンテージである。\n",
    "\n",
    "```\n",
    "R-squared = Explined variation / Total Variation\n",
    "```\n",
    "\n",
    "#### テストセットを実行する\n",
    "私達はvalidationやtestingに帰着する機械学習のクラスを学んでいます。そのため、最初のメソッドは私達のテストセット上のテストモデルを明らかにすることである。\n",
    "訓練用のデータセットを別で持ち、検証し、テストをすることは素晴らしい。しかし、これは私達の訓練用データが不足する可能性があることを意味する。多くの文献が、k-fold cross validationのように、多くの予備のデータを持っていない場合に直面した場合の助けとなる。\n",
    "\n",
    "#### ダミーデータでモデルをテストする\n",
    "別の方法として、ダミーデータでテストを行うことがあげられる。例えば、今回の場合、モデルをテストするために私達が既に知っている線形な相関を持ったダミーデータをいくつか作成できる。今回、Y = 3 * X を満たす100のデータ点(X, Y)を作成しましょう。そして、モデルのアウトプットが w =3, b = 0かどうかを見てみましょう。\n",
    "\n",
    "ダミーデータを生成する："
   ]
  },
  {
   "cell_type": "code",
   "execution_count": 5,
   "metadata": {
    "collapsed": false
   },
   "outputs": [
    {
     "data": {
      "image/png": "[encoded data removed]",
      "text/plain": [
       "<matplotlib.figure.Figure at 0x110528518>"
      ]
     },
     "metadata": {},
     "output_type": "display_data"
    }
   ],
   "source": [
    "import numpy as np\n",
    "\n",
    "X_input = np.linspace(-1, 1, 100)\n",
    "Y_input = X_input * 3 + np.random.randn(X_input.shape[0]) * 0.5\n",
    "\n",
    "# plot the results\n",
    "X, Y = X_input, Y_input\n",
    "plt.plot(X, Y, 'bo', label='Real data')\n",
    "plt.plot(X, X * 3 + 0, 'r', label='Predicted data')\n",
    "plt.legend()\n",
    "\n",
    "\n",
    "plt.show()"
   ]
  },
  {
   "cell_type": "markdown",
   "metadata": {},
   "source": [
    "#### analyze code\n",
    "モデルのcodeはまさに直線的です。以下2行を除外します。\n",
    "\n",
    "``` python\n",
    "optimizer = tf.train.GradientDescentOptimizer(learning_rate=0.01).minimize(loss)\n",
    "sess.run(optimizer, feed_dict={X:x, Y:y})\n",
    "```\n",
    "\n",
    "これらに似たコードを初めて実行したことを覚えていて、とても混乱しました。2つの疑問があります。\n",
    "1. なぜ、tf.Session.run()のフェッチリストにtarin_opがあるのか。\n",
    "2. TensorFlowがどのようにして変数が更新されたことを知るのか。\n",
    "\n",
    "Session.run()のフェッチとしてTensorFlowのopsを実装に渡すことができます。TensorFlowはこれらのopsが依存するgraphの部分を実行するでしょう。この場合、train_opがloss関数を最小化することを目的にしていて、lossは変数wとbに依存することがわかります。\n",
    "\n",
    "graphから、大きなnode(GradientDecentOptimizer)がweight、bias、gradientsのつのnodeに依存していることがわかります。"
   ]
  },
  {
   "cell_type": "markdown",
   "metadata": {
    "collapsed": true
   },
   "source": [
    "## Optimizer\n",
    "\n",
    "`GradientDecentOptimizer`(最急降下法オプティマイザ)は私たちの更新ルールが最急降下法であることを意味します。TensorFlowは自動で差分を計算し、loss関数の値を小さくするためにwやbの値を更新します。\n",
    "\n",
    "デフォルトでは、optimizerはオブジェクト関数が依存するすべての訓練可能な変数を訓練します。もし、訓練する必要がない変数があった場合、trainableをFalseに設定してください。以下は変数global_stepにて訓練する必要がない例です。\n",
    "共通の変数は、モデルが何回実行されたかを追うために、多くのTensorFlowのモデルで見ることができます。\n"
   ]
  },
  {
   "cell_type": "code",
   "execution_count": 6,
   "metadata": {
    "collapsed": true
   },
   "outputs": [],
   "source": [
    "global_step = tf.Variable(0, trainable=False, dtype=tf.int32)\n",
    "learning_rate = 0.01 * 0.99 ** tf.cast(global_step, tf.float32)\n",
    "\n",
    "increment_step = global_step.assign_add(1)\n",
    "\n",
    "# learning_rateはtensorになる\n",
    "optimizer = tf.GradientDesentOptimizer(learning_rate)\n"
   ]
  },
  {
   "cell_type": "code",
   "execution_count": null,
   "metadata": {
    "collapsed": true
   },
   "outputs": [],
   "source": [
    "# optimizerに対して変数が線形に変化しているかたずねることができる"
   ]
  }
 ],
 "metadata": {
  "kernelspec": {
   "display_name": "Python 3",
   "language": "python",
   "name": "python3"
  },
  "language_info": {
   "codemirror_mode": {
    "name": "ipython",
    "version": 3
   },
   "file_extension": ".py",
   "mimetype": "text/x-python",
   "name": "python",
   "nbconvert_exporter": "python",
   "pygments_lexer": "ipython3",
   "version": "3.5.2"
  }
 },
 "nbformat": 4,
 "nbformat_minor": 2
}
