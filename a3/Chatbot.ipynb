{
 "cells": [
  {
   "cell_type": "code",
   "execution_count": 2,
   "metadata": {
    "collapsed": true
   },
   "outputs": [],
   "source": [
    "# parameters for processing the dataset\n",
    "DATA_PATH = './cornell movie-dialogs corpus'\n",
    "CONVO_FILE = 'movie_conversations.txt'\n",
    "LINE_FILE = 'movie_lines.txt'\n",
    "OUTPUT_FILE = 'output_convo.txt'\n",
    "PROCESSED_PATH = 'processed'\n",
    "CPT_PATH = 'checkpoints'\n",
    "\n",
    "THRESHOLD = 2\n",
    "\n",
    "PAD_ID = 0\n",
    "UNK_ID = 1\n",
    "START_ID = 2\n",
    "EOS_ID = 3\n",
    "\n",
    "TESTSET_SIZE = 25000\n",
    "\n",
    "# model parameters\n",
    "\"\"\" Train encoder length distribution:\n",
    "[175, 92, 11883, 8387, 10656, 13613, 13480, 12850, 11802, 10165, \n",
    "8973, 7731, 7005, 6073, 5521, 5020, 4530, 4421, 3746, 3474, 3192, \n",
    "2724, 2587, 2413, 2252, 2015, 1816, 1728, 1555, 1392, 1327, 1248, \n",
    "1128, 1084, 1010, 884, 843, 755, 705, 660, 649, 594, 558, 517, 475, \n",
    "426, 444, 388, 349, 337]\n",
    "These buckets size seem to work the best\n",
    "\"\"\"\n",
    "# [19530, 17449, 17585, 23444, 22884, 16435, 17085, 18291, 18931]\n",
    "# BUCKETS = [(6, 8), (8, 10), (10, 12), (13, 15), (16, 19), (19, 22), (23, 26), (29, 32), (39, 44)]\n",
    "\n",
    "# [37049, 33519, 30223, 33513, 37371]\n",
    "# BUCKETS = [(8, 10), (12, 14), (16, 19), (23, 26), (39, 43)]\n",
    "\n",
    "BUCKETS = [(8, 10), (12, 14), (16, 19)]\n",
    "\n",
    "NUM_LAYERS = 3\n",
    "HIDDEN_SIZE = 256\n",
    "BATCH_SIZE = 64\n",
    "\n",
    "LR = 0.5\n",
    "MAX_GRAD_NORM = 5.0\n",
    "\n",
    "NUM_SAMPLES = 512"
   ]
  },
  {
   "cell_type": "code",
   "execution_count": 3,
   "metadata": {
    "collapsed": false
   },
   "outputs": [
    {
     "name": "stderr",
     "output_type": "stream",
     "text": [
      "usage: __main__.py [-h] [--mode {train,chat}]\n",
      "__main__.py: error: unrecognized arguments: -f /Users/takaaki-suzuki/Library/Jupyter/runtime/kernel-4a26164f-cd61-49e7-9e8b-fb26a8b63e68.json\n"
     ]
    },
    {
     "ename": "SystemExit",
     "evalue": "2",
     "output_type": "error",
     "traceback": [
      "An exception has occurred, use %tb to see the full traceback.\n",
      "\u001b[0;31mSystemExit\u001b[0m\u001b[0;31m:\u001b[0m 2\n"
     ]
    },
    {
     "name": "stderr",
     "output_type": "stream",
     "text": [
      "/Users/takaaki-suzuki/.pyenv/versions/anaconda3-4.1.1/envs/tensor-study/lib/python3.5/site-packages/IPython/core/interactiveshell.py:2889: UserWarning: To exit: use 'exit', 'quit', or Ctrl-D.\n",
      "  warn(\"To exit: use 'exit', 'quit', or Ctrl-D.\", stacklevel=1)\n"
     ]
    }
   ],
   "source": []
  },
  {
   "cell_type": "code",
   "execution_count": null,
   "metadata": {
    "collapsed": true
   },
   "outputs": [],
   "source": [
    "import argparse\n",
    "import os\n",
    "\n",
    "def main():\n",
    "    parser = argparse.ArgumentParser()\n",
    "    parser.add_argument('--mode', choices={'train', 'chat'},\n",
    "                       default='train', help=\"mode. if not specified, it's in the train mode\")\n",
    "    args = parser.parse_args()\n",
    "    \n",
    "    if not os.path.isdir(PROCESSED_PATH):\n",
    "        pass\n",
    "#         data.prep\n",
    "\n",
    "if __name__ == '__main__':\n",
    "    main()"
   ]
  }
 ],
 "metadata": {
  "kernelspec": {
   "display_name": "Python 3",
   "language": "python",
   "name": "python3"
  },
  "language_info": {
   "codemirror_mode": {
    "name": "ipython",
    "version": 3
   },
   "file_extension": ".py",
   "mimetype": "text/x-python",
   "name": "python",
   "nbconvert_exporter": "python",
   "pygments_lexer": "ipython3",
   "version": "3.5.2"
  }
 },
 "nbformat": 4,
 "nbformat_minor": 2
}
